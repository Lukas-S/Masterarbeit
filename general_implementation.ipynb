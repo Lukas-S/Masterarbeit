{
 "cells": [
  {
   "cell_type": "code",
   "execution_count": 7,
   "id": "mt27ki8bhz8",
   "metadata": {},
   "outputs": [
    {
     "name": "stdout",
     "output_type": "stream",
     "text": [
      "Using device: cpu\n"
     ]
    }
   ],
   "source": [
    "from helper import *\n",
    "from torchsummary import summary\n",
    "\n",
    "# Device detection and setup\n",
    "#device = torch.device('cuda' if torch.cuda.is_available() else 'cpu')\n",
    "device = torch.device('cpu')\n",
    "#device = 'cpu'\n",
    "print(f\"Using device: {device}\")\n",
    "# if torch.cuda.is_available():\n",
    "#     print(f\"CUDA device: {torch.cuda.get_device_name(0)}\")\n",
    "#     print(f\"CUDA memory: {torch.cuda.get_device_properties(0).total_memory / 1024**3:.1f} GB\")\n",
    "\n",
    "set_seed = 42"
   ]
  },
  {
   "cell_type": "code",
   "execution_count": 8,
   "id": "836db177",
   "metadata": {},
   "outputs": [],
   "source": [
    "# Neural Networks\n",
    "\n",
    "# RGB to HSV Network\n",
    "class RGBtoHSVNet(nn.Module):\n",
    "    def __init__(self):\n",
    "        super(RGBtoHSVNet, self).__init__()\n",
    "        self.fc1 = nn.Linear(3, 64)\n",
    "        self.relu1 = nn.ReLU()\n",
    "        self.fc2 = nn.Linear(64, 64)\n",
    "        self.relu2 = nn.ReLU()\n",
    "        self.fc3 = nn.Linear(64, 3)\n",
    "        \n",
    "    def forward(self, x):\n",
    "        x = self.relu1(self.fc1(x))\n",
    "        x = self.relu2(self.fc2(x))\n",
    "        x = self.fc3(x)\n",
    "        return x\n",
    "\n",
    "# Iris Network\n",
    "class IrisNet(nn.Module):\n",
    "    def __init__(self):\n",
    "        super(IrisNet, self).__init__()\n",
    "        self.fc1 = nn.Linear(4, 128)\n",
    "        self.relu1 = nn.ReLU()\n",
    "        self.fc2 = nn.Linear(128, 64)\n",
    "        self.relu2 = nn.ReLU()\n",
    "        self.fc3 = nn.Linear(64, 3)\n",
    "\n",
    "    def forward(self, x):\n",
    "        x = self.relu1(self.fc1(x))\n",
    "        x = self.relu2(self.fc2(x))\n",
    "        x = self.fc3(x)\n",
    "        return x\n",
    "\n",
    "# MNIST Network\n",
    "class MNISTNet(nn.Module):\n",
    "    def __init__(self):\n",
    "        super(MNISTNet, self).__init__()\n",
    "        self.fc1 = nn.Linear(28*28, 128)\n",
    "        self.relu1 = nn.ReLU()\n",
    "        self.fc2 = nn.Linear(128, 64)\n",
    "        self.relu2 = nn.ReLU()\n",
    "        self.fc3 = nn.Linear(64, 10)\n",
    "\n",
    "    def forward(self, x):\n",
    "        x = x.view(-1, 28*28)\n",
    "        x = self.relu1(self.fc1(x))\n",
    "        x = self.relu2(self.fc2(x))\n",
    "        x = self.fc3(x)\n",
    "        return x"
   ]
  },
  {
   "cell_type": "code",
   "execution_count": 9,
   "id": "11e687a0",
   "metadata": {},
   "outputs": [
    {
     "ename": "RuntimeError",
     "evalue": "Expected all tensors to be on the same device, but found at least two devices, cpu and cuda:0! (when checking argument for argument mat1 in method wrapper_CUDA_addmm)",
     "output_type": "error",
     "traceback": [
      "\u001b[1;31m---------------------------------------------------------------------------\u001b[0m",
      "\u001b[1;31mRuntimeError\u001b[0m                              Traceback (most recent call last)",
      "Cell \u001b[1;32mIn[9], line 4\u001b[0m\n\u001b[0;32m      2\u001b[0m model2 \u001b[38;5;241m=\u001b[39m RGBtoHSVNet()\n\u001b[0;32m      3\u001b[0m model3 \u001b[38;5;241m=\u001b[39m MNISTNet()\n\u001b[1;32m----> 4\u001b[0m \u001b[43msummary\u001b[49m\u001b[43m(\u001b[49m\u001b[43mmodel1\u001b[49m\u001b[43m,\u001b[49m\u001b[43m \u001b[49m\u001b[43minput_size\u001b[49m\u001b[38;5;241;43m=\u001b[39;49m\u001b[43m(\u001b[49m\u001b[38;5;241;43m4\u001b[39;49m\u001b[43m,\u001b[49m\u001b[43m)\u001b[49m\u001b[43m)\u001b[49m\n\u001b[0;32m      5\u001b[0m summary(model2, input_size\u001b[38;5;241m=\u001b[39m(\u001b[38;5;241m3\u001b[39m, \u001b[38;5;241m224\u001b[39m, \u001b[38;5;241m224\u001b[39m))\n\u001b[0;32m      6\u001b[0m summary(model3, input_size\u001b[38;5;241m=\u001b[39m(\u001b[38;5;241m1\u001b[39m, \u001b[38;5;241m28\u001b[39m, \u001b[38;5;241m28\u001b[39m))\n",
      "File \u001b[1;32mc:\\Users\\Lukas\\miniconda3\\envs\\ml_train\\Lib\\site-packages\\torchsummary\\torchsummary.py:72\u001b[0m, in \u001b[0;36msummary\u001b[1;34m(model, input_size, batch_size, device)\u001b[0m\n\u001b[0;32m     68\u001b[0m model\u001b[38;5;241m.\u001b[39mapply(register_hook)\n\u001b[0;32m     70\u001b[0m \u001b[38;5;66;03m# make a forward pass\u001b[39;00m\n\u001b[0;32m     71\u001b[0m \u001b[38;5;66;03m# print(x.shape)\u001b[39;00m\n\u001b[1;32m---> 72\u001b[0m \u001b[43mmodel\u001b[49m\u001b[43m(\u001b[49m\u001b[38;5;241;43m*\u001b[39;49m\u001b[43mx\u001b[49m\u001b[43m)\u001b[49m\n\u001b[0;32m     74\u001b[0m \u001b[38;5;66;03m# remove these hooks\u001b[39;00m\n\u001b[0;32m     75\u001b[0m \u001b[38;5;28;01mfor\u001b[39;00m h \u001b[38;5;129;01min\u001b[39;00m hooks:\n",
      "File \u001b[1;32mc:\\Users\\Lukas\\miniconda3\\envs\\ml_train\\Lib\\site-packages\\torch\\nn\\modules\\module.py:1736\u001b[0m, in \u001b[0;36mModule._wrapped_call_impl\u001b[1;34m(self, *args, **kwargs)\u001b[0m\n\u001b[0;32m   1734\u001b[0m     \u001b[38;5;28;01mreturn\u001b[39;00m \u001b[38;5;28mself\u001b[39m\u001b[38;5;241m.\u001b[39m_compiled_call_impl(\u001b[38;5;241m*\u001b[39margs, \u001b[38;5;241m*\u001b[39m\u001b[38;5;241m*\u001b[39mkwargs)  \u001b[38;5;66;03m# type: ignore[misc]\u001b[39;00m\n\u001b[0;32m   1735\u001b[0m \u001b[38;5;28;01melse\u001b[39;00m:\n\u001b[1;32m-> 1736\u001b[0m     \u001b[38;5;28;01mreturn\u001b[39;00m \u001b[38;5;28;43mself\u001b[39;49m\u001b[38;5;241;43m.\u001b[39;49m\u001b[43m_call_impl\u001b[49m\u001b[43m(\u001b[49m\u001b[38;5;241;43m*\u001b[39;49m\u001b[43margs\u001b[49m\u001b[43m,\u001b[49m\u001b[43m \u001b[49m\u001b[38;5;241;43m*\u001b[39;49m\u001b[38;5;241;43m*\u001b[39;49m\u001b[43mkwargs\u001b[49m\u001b[43m)\u001b[49m\n",
      "File \u001b[1;32mc:\\Users\\Lukas\\miniconda3\\envs\\ml_train\\Lib\\site-packages\\torch\\nn\\modules\\module.py:1747\u001b[0m, in \u001b[0;36mModule._call_impl\u001b[1;34m(self, *args, **kwargs)\u001b[0m\n\u001b[0;32m   1742\u001b[0m \u001b[38;5;66;03m# If we don't have any hooks, we want to skip the rest of the logic in\u001b[39;00m\n\u001b[0;32m   1743\u001b[0m \u001b[38;5;66;03m# this function, and just call forward.\u001b[39;00m\n\u001b[0;32m   1744\u001b[0m \u001b[38;5;28;01mif\u001b[39;00m \u001b[38;5;129;01mnot\u001b[39;00m (\u001b[38;5;28mself\u001b[39m\u001b[38;5;241m.\u001b[39m_backward_hooks \u001b[38;5;129;01mor\u001b[39;00m \u001b[38;5;28mself\u001b[39m\u001b[38;5;241m.\u001b[39m_backward_pre_hooks \u001b[38;5;129;01mor\u001b[39;00m \u001b[38;5;28mself\u001b[39m\u001b[38;5;241m.\u001b[39m_forward_hooks \u001b[38;5;129;01mor\u001b[39;00m \u001b[38;5;28mself\u001b[39m\u001b[38;5;241m.\u001b[39m_forward_pre_hooks\n\u001b[0;32m   1745\u001b[0m         \u001b[38;5;129;01mor\u001b[39;00m _global_backward_pre_hooks \u001b[38;5;129;01mor\u001b[39;00m _global_backward_hooks\n\u001b[0;32m   1746\u001b[0m         \u001b[38;5;129;01mor\u001b[39;00m _global_forward_hooks \u001b[38;5;129;01mor\u001b[39;00m _global_forward_pre_hooks):\n\u001b[1;32m-> 1747\u001b[0m     \u001b[38;5;28;01mreturn\u001b[39;00m \u001b[43mforward_call\u001b[49m\u001b[43m(\u001b[49m\u001b[38;5;241;43m*\u001b[39;49m\u001b[43margs\u001b[49m\u001b[43m,\u001b[49m\u001b[43m \u001b[49m\u001b[38;5;241;43m*\u001b[39;49m\u001b[38;5;241;43m*\u001b[39;49m\u001b[43mkwargs\u001b[49m\u001b[43m)\u001b[49m\n\u001b[0;32m   1749\u001b[0m result \u001b[38;5;241m=\u001b[39m \u001b[38;5;28;01mNone\u001b[39;00m\n\u001b[0;32m   1750\u001b[0m called_always_called_hooks \u001b[38;5;241m=\u001b[39m \u001b[38;5;28mset\u001b[39m()\n",
      "Cell \u001b[1;32mIn[8], line 30\u001b[0m, in \u001b[0;36mIrisNet.forward\u001b[1;34m(self, x)\u001b[0m\n\u001b[0;32m     29\u001b[0m \u001b[38;5;28;01mdef\u001b[39;00m \u001b[38;5;21mforward\u001b[39m(\u001b[38;5;28mself\u001b[39m, x):\n\u001b[1;32m---> 30\u001b[0m     x \u001b[38;5;241m=\u001b[39m \u001b[38;5;28mself\u001b[39m\u001b[38;5;241m.\u001b[39mrelu1(\u001b[38;5;28;43mself\u001b[39;49m\u001b[38;5;241;43m.\u001b[39;49m\u001b[43mfc1\u001b[49m\u001b[43m(\u001b[49m\u001b[43mx\u001b[49m\u001b[43m)\u001b[49m)\n\u001b[0;32m     31\u001b[0m     x \u001b[38;5;241m=\u001b[39m \u001b[38;5;28mself\u001b[39m\u001b[38;5;241m.\u001b[39mrelu2(\u001b[38;5;28mself\u001b[39m\u001b[38;5;241m.\u001b[39mfc2(x))\n\u001b[0;32m     32\u001b[0m     x \u001b[38;5;241m=\u001b[39m \u001b[38;5;28mself\u001b[39m\u001b[38;5;241m.\u001b[39mfc3(x)\n",
      "File \u001b[1;32mc:\\Users\\Lukas\\miniconda3\\envs\\ml_train\\Lib\\site-packages\\torch\\nn\\modules\\module.py:1736\u001b[0m, in \u001b[0;36mModule._wrapped_call_impl\u001b[1;34m(self, *args, **kwargs)\u001b[0m\n\u001b[0;32m   1734\u001b[0m     \u001b[38;5;28;01mreturn\u001b[39;00m \u001b[38;5;28mself\u001b[39m\u001b[38;5;241m.\u001b[39m_compiled_call_impl(\u001b[38;5;241m*\u001b[39margs, \u001b[38;5;241m*\u001b[39m\u001b[38;5;241m*\u001b[39mkwargs)  \u001b[38;5;66;03m# type: ignore[misc]\u001b[39;00m\n\u001b[0;32m   1735\u001b[0m \u001b[38;5;28;01melse\u001b[39;00m:\n\u001b[1;32m-> 1736\u001b[0m     \u001b[38;5;28;01mreturn\u001b[39;00m \u001b[38;5;28;43mself\u001b[39;49m\u001b[38;5;241;43m.\u001b[39;49m\u001b[43m_call_impl\u001b[49m\u001b[43m(\u001b[49m\u001b[38;5;241;43m*\u001b[39;49m\u001b[43margs\u001b[49m\u001b[43m,\u001b[49m\u001b[43m \u001b[49m\u001b[38;5;241;43m*\u001b[39;49m\u001b[38;5;241;43m*\u001b[39;49m\u001b[43mkwargs\u001b[49m\u001b[43m)\u001b[49m\n",
      "File \u001b[1;32mc:\\Users\\Lukas\\miniconda3\\envs\\ml_train\\Lib\\site-packages\\torch\\nn\\modules\\module.py:1844\u001b[0m, in \u001b[0;36mModule._call_impl\u001b[1;34m(self, *args, **kwargs)\u001b[0m\n\u001b[0;32m   1841\u001b[0m     \u001b[38;5;28;01mreturn\u001b[39;00m inner()\n\u001b[0;32m   1843\u001b[0m \u001b[38;5;28;01mtry\u001b[39;00m:\n\u001b[1;32m-> 1844\u001b[0m     \u001b[38;5;28;01mreturn\u001b[39;00m \u001b[43minner\u001b[49m\u001b[43m(\u001b[49m\u001b[43m)\u001b[49m\n\u001b[0;32m   1845\u001b[0m \u001b[38;5;28;01mexcept\u001b[39;00m \u001b[38;5;167;01mException\u001b[39;00m:\n\u001b[0;32m   1846\u001b[0m     \u001b[38;5;66;03m# run always called hooks if they have not already been run\u001b[39;00m\n\u001b[0;32m   1847\u001b[0m     \u001b[38;5;66;03m# For now only forward hooks have the always_call option but perhaps\u001b[39;00m\n\u001b[0;32m   1848\u001b[0m     \u001b[38;5;66;03m# this functionality should be added to full backward hooks as well.\u001b[39;00m\n\u001b[0;32m   1849\u001b[0m     \u001b[38;5;28;01mfor\u001b[39;00m hook_id, hook \u001b[38;5;129;01min\u001b[39;00m _global_forward_hooks\u001b[38;5;241m.\u001b[39mitems():\n",
      "File \u001b[1;32mc:\\Users\\Lukas\\miniconda3\\envs\\ml_train\\Lib\\site-packages\\torch\\nn\\modules\\module.py:1790\u001b[0m, in \u001b[0;36mModule._call_impl.<locals>.inner\u001b[1;34m()\u001b[0m\n\u001b[0;32m   1787\u001b[0m     bw_hook \u001b[38;5;241m=\u001b[39m BackwardHook(\u001b[38;5;28mself\u001b[39m, full_backward_hooks, backward_pre_hooks)\n\u001b[0;32m   1788\u001b[0m     args \u001b[38;5;241m=\u001b[39m bw_hook\u001b[38;5;241m.\u001b[39msetup_input_hook(args)\n\u001b[1;32m-> 1790\u001b[0m result \u001b[38;5;241m=\u001b[39m \u001b[43mforward_call\u001b[49m\u001b[43m(\u001b[49m\u001b[38;5;241;43m*\u001b[39;49m\u001b[43margs\u001b[49m\u001b[43m,\u001b[49m\u001b[43m \u001b[49m\u001b[38;5;241;43m*\u001b[39;49m\u001b[38;5;241;43m*\u001b[39;49m\u001b[43mkwargs\u001b[49m\u001b[43m)\u001b[49m\n\u001b[0;32m   1791\u001b[0m \u001b[38;5;28;01mif\u001b[39;00m _global_forward_hooks \u001b[38;5;129;01mor\u001b[39;00m \u001b[38;5;28mself\u001b[39m\u001b[38;5;241m.\u001b[39m_forward_hooks:\n\u001b[0;32m   1792\u001b[0m     \u001b[38;5;28;01mfor\u001b[39;00m hook_id, hook \u001b[38;5;129;01min\u001b[39;00m (\n\u001b[0;32m   1793\u001b[0m         \u001b[38;5;241m*\u001b[39m_global_forward_hooks\u001b[38;5;241m.\u001b[39mitems(),\n\u001b[0;32m   1794\u001b[0m         \u001b[38;5;241m*\u001b[39m\u001b[38;5;28mself\u001b[39m\u001b[38;5;241m.\u001b[39m_forward_hooks\u001b[38;5;241m.\u001b[39mitems(),\n\u001b[0;32m   1795\u001b[0m     ):\n\u001b[0;32m   1796\u001b[0m         \u001b[38;5;66;03m# mark that always called hook is run\u001b[39;00m\n",
      "File \u001b[1;32mc:\\Users\\Lukas\\miniconda3\\envs\\ml_train\\Lib\\site-packages\\torch\\nn\\modules\\linear.py:125\u001b[0m, in \u001b[0;36mLinear.forward\u001b[1;34m(self, input)\u001b[0m\n\u001b[0;32m    124\u001b[0m \u001b[38;5;28;01mdef\u001b[39;00m \u001b[38;5;21mforward\u001b[39m(\u001b[38;5;28mself\u001b[39m, \u001b[38;5;28minput\u001b[39m: Tensor) \u001b[38;5;241m-\u001b[39m\u001b[38;5;241m>\u001b[39m Tensor:\n\u001b[1;32m--> 125\u001b[0m     \u001b[38;5;28;01mreturn\u001b[39;00m \u001b[43mF\u001b[49m\u001b[38;5;241;43m.\u001b[39;49m\u001b[43mlinear\u001b[49m\u001b[43m(\u001b[49m\u001b[38;5;28;43minput\u001b[39;49m\u001b[43m,\u001b[49m\u001b[43m \u001b[49m\u001b[38;5;28;43mself\u001b[39;49m\u001b[38;5;241;43m.\u001b[39;49m\u001b[43mweight\u001b[49m\u001b[43m,\u001b[49m\u001b[43m \u001b[49m\u001b[38;5;28;43mself\u001b[39;49m\u001b[38;5;241;43m.\u001b[39;49m\u001b[43mbias\u001b[49m\u001b[43m)\u001b[49m\n",
      "\u001b[1;31mRuntimeError\u001b[0m: Expected all tensors to be on the same device, but found at least two devices, cpu and cuda:0! (when checking argument for argument mat1 in method wrapper_CUDA_addmm)"
     ]
    }
   ],
   "source": [
    "\n",
    "\n",
    "model1 = IrisNet()\n",
    "model2 = RGBtoHSVNet()\n",
    "model3 = MNISTNet()\n",
    "summary(model1, input_size=(4,))\n",
    "summary(model2, input_size=(3, 224, 224))\n",
    "summary(model3, input_size=(1, 28, 28))"
   ]
  },
  {
   "cell_type": "code",
   "execution_count": 39,
   "id": "fe8cbd5c",
   "metadata": {},
   "outputs": [
    {
     "name": "stdout",
     "output_type": "stream",
     "text": [
      "All seeds set to: 42\n",
      "Model weights initialized with seed: 42\n",
      "Training on device: cuda\n",
      "Epoch [20/100], Loss: 0.005751\n",
      "Epoch [40/100], Loss: 0.002921\n",
      "Epoch [60/100], Loss: 0.001910\n",
      "Epoch [80/100], Loss: 0.001440\n",
      "Epoch [100/100], Loss: 0.001160\n"
     ]
    }
   ],
   "source": [
    "# RGB-HSV Dataset\n",
    "rgb_train = generate_rgb_samples(1000, device=device, seed=42)\n",
    "hsv_train = rgb_to_hsv(rgb_train)\n",
    "\n",
    "rgb_test = generate_rgb_samples(250, device=device, seed=123)\n",
    "hsv_test = rgb_to_hsv(rgb_test)\n",
    "\n",
    "rgb_train_loader = DataLoader(TensorDataset(rgb_train.cpu(), hsv_train.cpu()), batch_size=32, shuffle=False)\n",
    "rgb_test_loader = DataLoader(TensorDataset(rgb_test.cpu(), hsv_test.cpu()), batch_size=32, shuffle=False)\n",
    "\n",
    "# Show specific samples:\n",
    "# show_rgb_hsv_samples(rgb_train.cpu(), hsv_train.cpu(), indices=[0, 10, 50])\n",
    "# show_rgb_hsv_samples(rgb_train.cpu(), hsv_train.cpu(), indices=25)  # Single index\n",
    "\n",
    "# Example usage (deterministic training):\n",
    "rgb_model = RGBtoHSVNet()\n",
    "rgb_criterion = nn.MSELoss()\n",
    "rgb_optimizer = optim.Adam(rgb_model.parameters(), lr=0.001)\n",
    "rgb_losses, trained_rgb = train_model(rgb_model, rgb_train_loader, rgb_criterion, rgb_optimizer, num_epochs=100, seed=42, verbose=True)"
   ]
  },
  {
   "cell_type": "code",
   "execution_count": 34,
   "id": "btb96ihcw5",
   "metadata": {},
   "outputs": [
    {
     "name": "stdout",
     "output_type": "stream",
     "text": [
      "All seeds set to: 42\n",
      "Model weights initialized with seed: 42\n",
      "Training on device: cuda\n",
      "Epoch [20/50], Loss: 0.145567\n",
      "Epoch [40/50], Loss: 0.107952\n"
     ]
    }
   ],
   "source": [
    "# Iris Dataset\n",
    "iris = sklearn_datasets.load_iris()\n",
    "X_iris = torch.FloatTensor(iris.data)\n",
    "y_iris = torch.LongTensor(iris.target)\n",
    "\n",
    "# Shuffle the dataset before splitting (deterministic with seed)\n",
    "np.random.seed(42)\n",
    "indices = np.random.permutation(len(X_iris))\n",
    "X_iris_shuffled = X_iris[indices]\n",
    "y_iris_shuffled = y_iris[indices]\n",
    "\n",
    "# Split into train/test\n",
    "split = int(0.8 * len(X_iris_shuffled))\n",
    "X_iris_train, X_iris_test = X_iris_shuffled[:split], X_iris_shuffled[split:]\n",
    "y_iris_train, y_iris_test = y_iris_shuffled[:split], y_iris_shuffled[split:]\n",
    "\n",
    "iris_train_loader = DataLoader(TensorDataset(X_iris_train, y_iris_train), batch_size=16, shuffle=False)\n",
    "iris_test_loader = DataLoader(TensorDataset(X_iris_test, y_iris_test), batch_size=16, shuffle=False)\n",
    "\n",
    "# Show specific samples:\n",
    "# show_iris_samples(X_iris_shuffled, y_iris_shuffled, indices=[0, 50, 100])\n",
    "\n",
    "\n",
    "# Example usage (deterministic training):\n",
    "iris_model = IrisNet()\n",
    "iris_criterion = nn.CrossEntropyLoss()\n",
    "iris_optimizer = optim.Adam(iris_model.parameters(), lr=0.01)\n",
    "iris_losses, trained_iris = train_model(iris_model, iris_train_loader, iris_criterion, iris_optimizer, num_epochs=50, seed=42, verbose=True)"
   ]
  },
  {
   "cell_type": "code",
   "execution_count": 40,
   "id": "5qi1qh7odf3",
   "metadata": {},
   "outputs": [
    {
     "name": "stdout",
     "output_type": "stream",
     "text": [
      "All seeds set to: 42\n",
      "Model weights initialized with seed: 42\n",
      "Training on device: cuda\n"
     ]
    }
   ],
   "source": [
    "# MNIST Dataset (deterministic)\n",
    "transform = transforms.Compose([transforms.ToTensor(), transforms.Normalize((0.5,), (0.5,))])\n",
    "\n",
    "# Create datasets with fixed generator for reproducibility\n",
    "g = torch.Generator()\n",
    "g.manual_seed(42)\n",
    "\n",
    "mnist_train = datasets.MNIST('./data', train=True, download=True, transform=transform)\n",
    "mnist_test = datasets.MNIST('./data', train=False, download=True, transform=transform)\n",
    "\n",
    "mnist_train_loader = DataLoader(mnist_train, batch_size=64, shuffle=False, generator=g)\n",
    "mnist_test_loader = DataLoader(mnist_test, batch_size=64, shuffle=False)\n",
    "\n",
    "# Example usage (deterministic training):\n",
    "mnist_model = MNISTNet()\n",
    "mnist_criterion = nn.CrossEntropyLoss()\n",
    "mnist_optimizer = optim.SGD(mnist_model.parameters(), lr=0.01)\n",
    "mnist_losses, trained_mnist = train_model(mnist_model, mnist_train_loader, mnist_criterion, mnist_optimizer, num_epochs=5, seed=42, verbose=True)"
   ]
  },
  {
   "cell_type": "code",
   "execution_count": 51,
   "id": "dc1410c8",
   "metadata": {},
   "outputs": [
    {
     "name": "stdout",
     "output_type": "stream",
     "text": [
      "Iris Dataset Samples:\n",
      "--------------------------------------------------------------------------------\n",
      "Index  Class        Sepal_L  Sepal_W  Petal_L  Petal_W \n",
      "--------------------------------------------------------------------------------\n",
      "0      versicolor   6.10     2.80     4.70     1.20    \n",
      "1      setosa       5.70     3.80     1.70     0.30    \n",
      "2      virginica    7.70     2.60     6.90     2.30    \n",
      "3      versicolor   6.00     2.90     4.50     1.50    \n",
      "4      versicolor   6.80     2.80     4.80     1.40    \n",
      "5      setosa       5.40     3.40     1.50     0.40    \n",
      "6      versicolor   5.60     2.90     3.60     1.30    \n",
      "7      virginica    6.90     3.10     5.10     2.30    \n",
      "8      versicolor   6.20     2.20     4.50     1.50    \n"
     ]
    }
   ],
   "source": [
    "list_of_indices = [0,1,2,3,4,5,6,7,8]\n",
    "show_iris_samples(X_iris_train, y_iris_train, indices=list_of_indices)  # Single index"
   ]
  },
  {
   "cell_type": "code",
   "execution_count": 52,
   "id": "fb5ae8a5",
   "metadata": {},
   "outputs": [
    {
     "data": {
      "image/png": "[encoded data removed]",
      "text/plain": [
       "<Figure size 1200x900 with 12 Axes>"
      ]
     },
     "metadata": {},
     "output_type": "display_data"
    }
   ],
   "source": [
    "# Show specific samples:\n",
    "show_mnist_samples(mnist_train_loader, indices=list_of_indices)  # Single index"
   ]
  },
  {
   "cell_type": "code",
   "execution_count": 6,
   "id": "c93d3d23",
   "metadata": {},
   "outputs": [
    {
     "name": "stdout",
     "output_type": "stream",
     "text": [
      "RGB to HSV Conversion Samples:\n",
      "------------------------------------------------------------\n",
      "Index  RGB                  HSV                 \n",
      "------------------------------------------------------------\n",
      "1      (0.040, 0.156, 0.482) (0.623, 0.916, 0.482)\n"
     ]
    }
   ],
   "source": [
    "show_rgb_hsv_samples(rgb_train, hsv_train, indices=1)"
   ]
  },
  {
   "cell_type": "code",
   "execution_count": 7,
   "id": "87035967",
   "metadata": {},
   "outputs": [
    {
     "name": "stdout",
     "output_type": "stream",
     "text": [
      "RGB to HSV Predictions:\n",
      "------------------------------------------------------------------------------------------\n",
      "Index  Input RGB            True HSV             Pred HSV            \n",
      "------------------------------------------------------------------------------------------\n",
      "42     (0.720, 0.696, 0.640) (0.116, 0.112, 0.720) (0.231, 0.097, 0.723)\n",
      "Iris Predictions:\n",
      "------------------------------------------------------------\n",
      "Index  True         Pred         Confidence  \n",
      "------------------------------------------------------------\n",
      "15     versicolor   versicolor   0.9960      \n",
      "MNIST Predictions:\n",
      "--------------------------------------------------\n",
      "Index  True   Pred   Confidence  \n",
      "--------------------------------------------------\n",
      "8      5      6      0.9870      \n"
     ]
    }
   ],
   "source": [
    "# RGB\n",
    "predictions_rgb, sample_targets_rgb, sample_inputs_rgb = predict_and_show(trained_rgb, rgb_test_loader, dataset_type='rgb_hsv', indices=42)  # Single index\n",
    "\n",
    "# Iris\n",
    "predictions_iris, probabilities_iris, predicted_classes_iris, sample_targets_iris = predict_and_show(trained_iris, iris_test_loader, dataset_type='iris', indices=15)  # Single index\n",
    "\n",
    "# MNIST\n",
    "predictions_mnist, probabilities_mnist, predicted_classes_mnist, sample_targets_mnist = predict_and_show(trained_mnist, mnist_test_loader, dataset_type='mnist', indices=8)  # Single index"
   ]
  },
  {
   "cell_type": "code",
   "execution_count": 9,
   "id": "40su0nsq9d9",
   "metadata": {},
   "outputs": [
    {
     "name": "stdout",
     "output_type": "stream",
     "text": [
      "=== RGB-HSV Network Activations ===\n",
      "Full dataset - Inputs shape: torch.Size([1000, 3])\n",
      "Full dataset - Activations shape: torch.Size([1000, 256])\n",
      "Full dataset - Outputs shape: torch.Size([1000, 3])\n"
     ]
    }
   ],
   "source": [
    "# Example usage of get_activations function\n",
    "\n",
    "print(\"=== RGB-HSV Network Activations ===\")\n",
    "# Get activations for entire training dataset\n",
    "rgb_inputs, rgb_activations, rgb_outputs = get_activations(trained_rgb, rgb_train_loader, dataset_type='rgb_hsv')\n",
    "print(f\"Full dataset - Inputs shape: {rgb_inputs.shape}\")\n",
    "print(f\"Full dataset - Activations shape: {rgb_activations.shape}\")\n",
    "print(f\"Full dataset - Outputs shape: {rgb_outputs.shape}\")\n",
    "\n",
    "# print(\"\\n=== Iris Network Activations ===\")\n",
    "# # Get activations for entire training dataset\n",
    "# iris_inputs, iris_activations, iris_outputs = get_activations(trained_iris, iris_train_loader, dataset_type='iris')\n",
    "# print(f\"Full dataset - Inputs shape: {iris_inputs.shape}\")\n",
    "# print(f\"Full dataset - Activations shape: {iris_activations.shape}\")\n",
    "# print(f\"Full dataset - Outputs shape: {iris_outputs.shape}\")\n",
    "\n",
    "# print(\"\\n=== MNIST Network Activations ===\")\n",
    "# # Get activations for entire training dataset (this might be large!)\n",
    "# mnist_inputs, mnist_activations, mnist_outputs = get_activations(trained_mnist, mnist_train_loader, dataset_type='mnist')\n",
    "# print(f\"Full dataset - Inputs shape: {mnist_inputs.shape}\")\n",
    "# print(f\"Full dataset - Activations shape: {mnist_activations.shape}\")\n",
    "# print(f\"Full dataset - Outputs shape: {mnist_outputs.shape}\")"
   ]
  },
  {
   "cell_type": "code",
   "execution_count": 33,
   "id": "c81b070a",
   "metadata": {},
   "outputs": [
    {
     "data": {
      "image/png": "[encoded data removed]",
      "text/plain": [
       "<Figure size 1200x200 with 6 Axes>"
      ]
     },
     "metadata": {},
     "output_type": "display_data"
    }
   ],
   "source": [
    "sample_index = 13\n",
    "k_neighbors = 5\n",
    "\n",
    "single_rgb_inputs, single_rgb_activations, single_rgb_outputs = get_activations(trained_rgb, rgb_test_loader, dataset_type='rgb_hsv', indices=sample_index)\n",
    "\n",
    "# 1. Using RGB activations with L1 distance\n",
    "indices_rgb, distances_rgb = find_knn(rgb_activations, single_rgb_activations, k=k_neighbors, metric='l1')\n",
    "\n",
    "showcase_rgb_neighbors(rgb_train.cpu(), knn_indices=indices_rgb, knn_distances=distances_rgb, rgb_test=rgb_test.cpu(), query_index=sample_index, n_cols=k_neighbors+1, square_size=120)"
   ]
  },
  {
   "cell_type": "code",
   "execution_count": 9,
   "id": "3be20813",
   "metadata": {},
   "outputs": [
    {
     "name": "stdout",
     "output_type": "stream",
     "text": [
      "RGB-HSV\n",
      "Single sample - Inputs shape: torch.Size([1, 3])\n",
      "Single sample - Activations shape: torch.Size([1, 256])\n",
      "Single sample - Outputs shape: torch.Size([1, 3])\n",
      "Iris\n",
      "Single sample - Inputs shape: torch.Size([1, 4])\n",
      "Single sample - Activations shape: torch.Size([1, 384])\n",
      "Single sample - Outputs shape: torch.Size([1, 3])\n",
      "MNIST\n",
      "Single sample - Inputs shape: torch.Size([1, 784])\n",
      "Single sample - Activations shape: torch.Size([1, 384])\n",
      "Single sample - Outputs shape: torch.Size([1, 10])\n"
     ]
    },
    {
     "data": {
      "image/png": "[encoded data removed]",
      "text/plain": [
       "<Figure size 1200x200 with 6 Axes>"
      ]
     },
     "metadata": {},
     "output_type": "display_data"
    },
    {
     "name": "stdout",
     "output_type": "stream",
     "text": [
      "Iris K-NN Showcase (Query from test set, neighbors from train set)\n",
      "-------------------------------------------------------------------------------------------\n",
      "Role     Index  Class        Distance   sepal_length sepal_width  petal_length petal_width \n",
      "-------------------------------------------------------------------------------------------\n",
      "Query    15     versicolor              6.90         3.10         4.90         1.50        \n",
      "-------------------------------------------------------------------------------------------\n",
      "Neighbor 42     versicolor   12.6966    6.70         3.10         4.70         1.50        \n",
      "Neighbor 4      versicolor   13.8801    6.80         2.80         4.80         1.40        \n",
      "Neighbor 110    versicolor   23.8528    6.50         2.80         4.60         1.50        \n",
      "Neighbor 112    versicolor   25.9883    7.00         3.20         4.70         1.40        \n",
      "Neighbor 48     versicolor   29.5538    6.60         3.00         4.40         1.40        \n",
      "-------------------------------------------------------------------------------------------\n"
     ]
    },
    {
     "data": {
      "image/png": "[encoded data removed]",
      "text/plain": [
       "<Figure size 1200x200 with 6 Axes>"
      ]
     },
     "metadata": {},
     "output_type": "display_data"
    }
   ],
   "source": [
    "sample_index = 15\n",
    "k_neighbors = 5\n",
    "\n",
    "# Get activations for single sample\n",
    "single_rgb_inputs, single_rgb_activations, single_rgb_outputs = get_activations(trained_rgb, rgb_test_loader, dataset_type='rgb_hsv', indices=sample_index)\n",
    "print(\"RGB-HSV\")\n",
    "print(f\"Single sample - Inputs shape: {single_rgb_inputs.shape}\")\n",
    "print(f\"Single sample - Activations shape: {single_rgb_activations.shape}\")\n",
    "print(f\"Single sample - Outputs shape: {single_rgb_outputs.shape}\")\n",
    "\n",
    "# Get activations for single sample\n",
    "single_iris_inputs, single_iris_activations, single_iris_outputs = get_activations(trained_iris, iris_test_loader, dataset_type='iris', indices=sample_index)\n",
    "print(\"Iris\")\n",
    "print(f\"Single sample - Inputs shape: {single_iris_inputs.shape}\")\n",
    "print(f\"Single sample - Activations shape: {single_iris_activations.shape}\")\n",
    "print(f\"Single sample - Outputs shape: {single_iris_outputs.shape}\")\n",
    "\n",
    "# Get activations for single sample\n",
    "single_mnist_inputs, single_mnist_activations, single_mnist_outputs = get_activations(trained_mnist, mnist_test_loader, dataset_type='mnist', indices=sample_index)\n",
    "print(\"MNIST\")\n",
    "print(f\"Single sample - Inputs shape: {single_mnist_inputs.shape}\")\n",
    "print(f\"Single sample - Activations shape: {single_mnist_activations.shape}\")\n",
    "print(f\"Single sample - Outputs shape: {single_mnist_outputs.shape}\")\n",
    "\n",
    "# 1. Using RGB activations with L1 distance\n",
    "indices_rgb, distances_rgb = find_knn(rgb_activations, single_rgb_activations, k=k_neighbors, metric='l1')\n",
    "\n",
    "# 2. Using Iris inputs with Cosine distance\n",
    "indices_iris, distances_iris = find_knn(iris_activations, single_iris_activations, k=k_neighbors, metric='l1')\n",
    "\n",
    "# 3. Using MNIST outputs with L1 distance\n",
    "indices_mnist, distances_mnist = find_knn(mnist_activations, single_mnist_activations, k=k_neighbors, metric='l1')\n",
    "\n",
    "showcase_rgb_neighbors(rgb_train.cpu(), knn_indices=indices_rgb, knn_distances=distances_rgb, rgb_test=rgb_test.cpu(), query_index=sample_index, n_cols=k_neighbors+1, square_size=120)\n",
    "\n",
    "showcase_iris_neighbors(X_iris_train, y_iris_train, indices_iris, knn_distances=distances_iris, X_test=X_iris_test, y_test=y_iris_test, query_index=sample_index)\n",
    "\n",
    "showcase_mnist_neighbors(mnist_train_loader, knn_indices=indices_mnist, knn_distances=distances_mnist, test_dataloader=mnist_test_loader, query_index=sample_index, n_cols=k_neighbors+1, cmap='gray')"
   ]
  }
 ],
 "metadata": {
  "kernelspec": {
   "display_name": "ml_train",
   "language": "python",
   "name": "python3"
  },
  "language_info": {
   "codemirror_mode": {
    "name": "ipython",
    "version": 3
   },
   "file_extension": ".py",
   "mimetype": "text/x-python",
   "name": "python",
   "nbconvert_exporter": "python",
   "pygments_lexer": "ipython3",
   "version": "3.11.11"
  }
 },
 "nbformat": 4,
 "nbformat_minor": 5
}
