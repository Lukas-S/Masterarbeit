{
 "cells": [
  {
   "cell_type": "code",
   "execution_count": 1,
   "id": "mt27ki8bhz8",
   "metadata": {},
   "outputs": [
    {
     "name": "stdout",
     "output_type": "stream",
     "text": [
      "Using device: cuda\n",
      "CUDA device: NVIDIA GeForce RTX 4060 Ti\n",
      "CUDA memory: 16.0 GB\n"
     ]
    }
   ],
   "source": [
    "from helper import *\n",
    "\n",
    "# Device detection and setup\n",
    "device = torch.device('cuda' if torch.cuda.is_available() else 'cpu')\n",
    "print(f\"Using device: {device}\")\n",
    "if torch.cuda.is_available():\n",
    "    print(f\"CUDA device: {torch.cuda.get_device_name(0)}\")\n",
    "    print(f\"CUDA memory: {torch.cuda.get_device_properties(0).total_memory / 1024**3:.1f} GB\")\n",
    "\n",
    "set_seed = 42"
   ]
  },
  {
   "cell_type": "code",
   "execution_count": 2,
   "id": "836db177",
   "metadata": {},
   "outputs": [],
   "source": [
    "# Neural Networks\n",
    "\n",
    "# RGB to HSV Network\n",
    "class RGBtoHSVNet(nn.Module):\n",
    "    def __init__(self):\n",
    "        super(RGBtoHSVNet, self).__init__()\n",
    "        self.fc1 = nn.Linear(3, 64)\n",
    "        self.relu1 = nn.ReLU()\n",
    "        self.fc2 = nn.Linear(64, 64)\n",
    "        self.relu2 = nn.ReLU()\n",
    "        self.fc3 = nn.Linear(64, 3)\n",
    "        \n",
    "    def forward(self, x):\n",
    "        x = self.relu1(self.fc1(x))\n",
    "        x = self.relu2(self.fc2(x))\n",
    "        x = self.fc3(x)\n",
    "        return x\n",
    "\n",
    "# Iris Network\n",
    "class IrisNet(nn.Module):\n",
    "    def __init__(self):\n",
    "        super(IrisNet, self).__init__()\n",
    "        self.fc1 = nn.Linear(4, 128)\n",
    "        self.relu1 = nn.ReLU()\n",
    "        self.fc2 = nn.Linear(128, 64)\n",
    "        self.relu2 = nn.ReLU()\n",
    "        self.fc3 = nn.Linear(64, 3)\n",
    "\n",
    "    def forward(self, x):\n",
    "        x = self.relu1(self.fc1(x))\n",
    "        x = self.relu2(self.fc2(x))\n",
    "        x = self.fc3(x)\n",
    "        return x\n",
    "\n",
    "# MNIST Network\n",
    "class MNISTNet(nn.Module):\n",
    "    def __init__(self):\n",
    "        super(MNISTNet, self).__init__()\n",
    "        self.fc1 = nn.Linear(28*28, 128)\n",
    "        self.relu1 = nn.ReLU()\n",
    "        self.fc2 = nn.Linear(128, 64)\n",
    "        self.relu2 = nn.ReLU()\n",
    "        self.fc3 = nn.Linear(64, 10)\n",
    "\n",
    "    def forward(self, x):\n",
    "        x = x.view(-1, 28*28)\n",
    "        x = self.relu1(self.fc1(x))\n",
    "        x = self.relu2(self.fc2(x))\n",
    "        x = self.fc3(x)\n",
    "        return x"
   ]
  },
  {
   "cell_type": "code",
   "execution_count": 3,
   "id": "fe8cbd5c",
   "metadata": {},
   "outputs": [
    {
     "name": "stdout",
     "output_type": "stream",
     "text": [
      "All seeds set to: 42\n",
      "Model weights initialized with seed: 42\n",
      "Training on device: cuda\n",
      "Epoch [20/100], Loss: 0.005868\n",
      "Epoch [40/100], Loss: 0.003087\n",
      "Epoch [60/100], Loss: 0.002162\n",
      "Epoch [80/100], Loss: 0.001719\n",
      "Epoch [100/100], Loss: 0.001416\n"
     ]
    }
   ],
   "source": [
    "# RGB-HSV Dataset\n",
    "rgb_train = generate_rgb_samples(1000, device=device, seed=42)\n",
    "hsv_train = rgb_to_hsv(rgb_train)\n",
    "\n",
    "rgb_test = generate_rgb_samples(1000, device=device, seed=123)\n",
    "hsv_test = rgb_to_hsv(rgb_test)\n",
    "\n",
    "rgb_train_loader = DataLoader(TensorDataset(rgb_train.cpu(), hsv_train.cpu()), batch_size=32, shuffle=False)\n",
    "rgb_test_loader = DataLoader(TensorDataset(rgb_test.cpu(), hsv_test.cpu()), batch_size=32, shuffle=False)\n",
    "\n",
    "# Show specific samples:\n",
    "# show_rgb_hsv_samples(rgb_train.cpu(), hsv_train.cpu(), indices=[0, 10, 50])\n",
    "# show_rgb_hsv_samples(rgb_train.cpu(), hsv_train.cpu(), indices=25)  # Single index\n",
    "\n",
    "# Example usage (deterministic training):\n",
    "rgb_model = RGBtoHSVNet()\n",
    "rgb_criterion = nn.MSELoss()\n",
    "rgb_optimizer = optim.Adam(rgb_model.parameters(), lr=0.001)\n",
    "rgb_losses, trained_rgb = train_model(rgb_model, rgb_train_loader, rgb_criterion, rgb_optimizer, num_epochs=100, seed=42, verbose=True)"
   ]
  },
  {
   "cell_type": "code",
   "execution_count": 4,
   "id": "btb96ihcw5",
   "metadata": {},
   "outputs": [
    {
     "name": "stdout",
     "output_type": "stream",
     "text": [
      "All seeds set to: 42\n",
      "Model weights initialized with seed: 42\n",
      "Training on device: cuda\n",
      "Epoch [20/50], Loss: 0.117236\n",
      "Epoch [40/50], Loss: 0.099436\n"
     ]
    }
   ],
   "source": [
    "# Iris Dataset\n",
    "iris = sklearn_datasets.load_iris()\n",
    "X_iris = torch.FloatTensor(iris.data)\n",
    "y_iris = torch.LongTensor(iris.target)\n",
    "\n",
    "# Shuffle the dataset before splitting (deterministic with seed)\n",
    "np.random.seed(42)\n",
    "indices = np.random.permutation(len(X_iris))\n",
    "X_iris_shuffled = X_iris[indices]\n",
    "y_iris_shuffled = y_iris[indices]\n",
    "\n",
    "# Split into train/test\n",
    "split = int(0.8 * len(X_iris_shuffled))\n",
    "X_iris_train, X_iris_test = X_iris_shuffled[:split], X_iris_shuffled[split:]\n",
    "y_iris_train, y_iris_test = y_iris_shuffled[:split], y_iris_shuffled[split:]\n",
    "\n",
    "iris_train_loader = DataLoader(TensorDataset(X_iris_train, y_iris_train), batch_size=16, shuffle=False)\n",
    "iris_test_loader = DataLoader(TensorDataset(X_iris_test, y_iris_test), batch_size=16, shuffle=False)\n",
    "\n",
    "# Show specific samples:\n",
    "# show_iris_samples(X_iris_shuffled, y_iris_shuffled, indices=[0, 50, 100])\n",
    "\n",
    "\n",
    "# Example usage (deterministic training):\n",
    "iris_model = IrisNet()\n",
    "iris_criterion = nn.CrossEntropyLoss()\n",
    "iris_optimizer = optim.Adam(iris_model.parameters(), lr=0.01)\n",
    "iris_losses, trained_iris = train_model(iris_model, iris_train_loader, iris_criterion, iris_optimizer, num_epochs=50, seed=42, verbose=True)"
   ]
  },
  {
   "cell_type": "code",
   "execution_count": 5,
   "id": "6350672a",
   "metadata": {},
   "outputs": [
    {
     "name": "stdout",
     "output_type": "stream",
     "text": [
      "Iris Dataset Samples:\n",
      "--------------------------------------------------------------------------------\n",
      "Index  Class        Sepal_L  Sepal_W  Petal_L  Petal_W \n",
      "--------------------------------------------------------------------------------\n",
      "75     versicolor   5.40     3.00     4.50     1.50    \n"
     ]
    }
   ],
   "source": [
    "show_iris_samples(X_iris_shuffled, y_iris_shuffled, indices=75)  # Single index"
   ]
  },
  {
   "cell_type": "code",
   "execution_count": 6,
   "id": "5qi1qh7odf3",
   "metadata": {},
   "outputs": [
    {
     "name": "stdout",
     "output_type": "stream",
     "text": [
      "All seeds set to: 42\n",
      "Model weights initialized with seed: 42\n",
      "Training on device: cuda\n"
     ]
    }
   ],
   "source": [
    "# MNIST Dataset (deterministic)\n",
    "transform = transforms.Compose([transforms.ToTensor(), transforms.Normalize((0.5,), (0.5,))])\n",
    "\n",
    "# Create datasets with fixed generator for reproducibility\n",
    "g = torch.Generator()\n",
    "g.manual_seed(42)\n",
    "\n",
    "mnist_train = datasets.MNIST('./data', train=True, download=True, transform=transform)\n",
    "mnist_test = datasets.MNIST('./data', train=False, download=True, transform=transform)\n",
    "\n",
    "mnist_train_loader = DataLoader(mnist_train, batch_size=64, shuffle=False, generator=g)\n",
    "mnist_test_loader = DataLoader(mnist_test, batch_size=64, shuffle=False)\n",
    "\n",
    "# Example usage (deterministic training):\n",
    "mnist_model = MNISTNet()\n",
    "mnist_criterion = nn.CrossEntropyLoss()\n",
    "mnist_optimizer = optim.SGD(mnist_model.parameters(), lr=0.01)\n",
    "mnist_losses, trained_mnist = train_model(mnist_model, mnist_train_loader, mnist_criterion, mnist_optimizer, num_epochs=5, seed=42, verbose=True)"
   ]
  },
  {
   "cell_type": "code",
   "execution_count": 7,
   "id": "fb5ae8a5",
   "metadata": {},
   "outputs": [
    {
     "data": {
      "image/png": "[encoded data removed]",
      "text/plain": [
       "<Figure size 400x400 with 1 Axes>"
      ]
     },
     "metadata": {},
     "output_type": "display_data"
    }
   ],
   "source": [
    "# Show specific samples:\n",
    "show_mnist_samples(mnist_test_loader, indices=8)  # Single index"
   ]
  },
  {
   "cell_type": "code",
   "execution_count": null,
   "id": "87035967",
   "metadata": {},
   "outputs": [
    {
     "name": "stdout",
     "output_type": "stream",
     "text": [
      "RGB to HSV Predictions:\n",
      "------------------------------------------------------------------------------------------\n",
      "Index  Input RGB            True HSV             Pred HSV            \n",
      "------------------------------------------------------------------------------------------\n",
      "42     (0.612, 0.413, 0.091) (0.103, 0.851, 0.612) (0.120, 0.843, 0.610)\n",
      "Iris Predictions:\n",
      "------------------------------------------------------------\n",
      "Index  True         Pred         Confidence  \n",
      "------------------------------------------------------------\n",
      "15     versicolor   versicolor   0.9974      \n",
      "MNIST Predictions:\n",
      "--------------------------------------------------\n",
      "Index  True   Pred   Confidence  \n",
      "--------------------------------------------------\n",
      "8      5      6      0.9228      \n"
     ]
    }
   ],
   "source": [
    "# RGB\n",
    "predictions_rgb, sample_targets_rgb, sample_inputs_rgb = predict_and_show(trained_rgb, rgb_test_loader, dataset_type='rgb_hsv', indices=42)  # Single index\n",
    "\n",
    "# Iris\n",
    "predictions_iris, probabilities_iris, predicted_classes_iris, sample_targets_iris = predict_and_show(trained_iris, iris_test_loader, dataset_type='iris', indices=15)  # Single index\n",
    "\n",
    "# MNIST\n",
    "predictions_mnist, probabilities_mnist, predicted_classes_mnist, sample_targets_mnist = predict_and_show(trained_mnist, mnist_test_loader, dataset_type='mnist', indices=8)  # Single index"
   ]
  },
  {
   "cell_type": "code",
   "execution_count": 9,
   "id": "40su0nsq9d9",
   "metadata": {},
   "outputs": [
    {
     "name": "stdout",
     "output_type": "stream",
     "text": [
      "=== RGB-HSV Network Activations ===\n",
      "Full dataset - Inputs shape: torch.Size([1000, 3])\n",
      "Full dataset - Activations shape: torch.Size([1000, 256])\n",
      "Full dataset - Outputs shape: torch.Size([1000, 3])\n",
      "\n",
      "=== Iris Network Activations ===\n",
      "Full dataset - Inputs shape: torch.Size([120, 4])\n",
      "Full dataset - Activations shape: torch.Size([120, 384])\n",
      "Full dataset - Outputs shape: torch.Size([120, 3])\n",
      "\n",
      "=== MNIST Network Activations ===\n",
      "Full dataset - Inputs shape: torch.Size([60000, 784])\n",
      "Full dataset - Activations shape: torch.Size([60000, 384])\n",
      "Full dataset - Outputs shape: torch.Size([60000, 10])\n"
     ]
    }
   ],
   "source": [
    "# Example usage of get_activations function\n",
    "\n",
    "print(\"=== RGB-HSV Network Activations ===\")\n",
    "# Get activations for entire training dataset\n",
    "rgb_inputs, rgb_activations, rgb_outputs = get_activations(trained_rgb, rgb_train_loader, dataset_type='rgb_hsv')\n",
    "print(f\"Full dataset - Inputs shape: {rgb_inputs.shape}\")\n",
    "print(f\"Full dataset - Activations shape: {rgb_activations.shape}\")\n",
    "print(f\"Full dataset - Outputs shape: {rgb_outputs.shape}\")\n",
    "\n",
    "print(\"\\n=== Iris Network Activations ===\")\n",
    "# Get activations for entire training dataset\n",
    "iris_inputs, iris_activations, iris_outputs = get_activations(trained_iris, iris_train_loader, dataset_type='iris')\n",
    "print(f\"Full dataset - Inputs shape: {iris_inputs.shape}\")\n",
    "print(f\"Full dataset - Activations shape: {iris_activations.shape}\")\n",
    "print(f\"Full dataset - Outputs shape: {iris_outputs.shape}\")\n",
    "\n",
    "print(\"\\n=== MNIST Network Activations ===\")\n",
    "# Get activations for entire training dataset (this might be large!)\n",
    "mnist_inputs, mnist_activations, mnist_outputs = get_activations(trained_mnist, mnist_train_loader, dataset_type='mnist')\n",
    "print(f\"Full dataset - Inputs shape: {mnist_inputs.shape}\")\n",
    "print(f\"Full dataset - Activations shape: {mnist_activations.shape}\")\n",
    "print(f\"Full dataset - Outputs shape: {mnist_outputs.shape}\")"
   ]
  },
  {
   "cell_type": "code",
   "execution_count": 10,
   "id": "3be20813",
   "metadata": {},
   "outputs": [
    {
     "name": "stdout",
     "output_type": "stream",
     "text": [
      "RGB-HSV\n",
      "Single sample - Inputs shape: torch.Size([1, 3])\n",
      "Single sample - Activations shape: torch.Size([1, 256])\n",
      "Single sample - Outputs shape: torch.Size([1, 3])\n",
      "Iris\n",
      "Single sample - Inputs shape: torch.Size([1, 4])\n",
      "Single sample - Activations shape: torch.Size([1, 384])\n",
      "Single sample - Outputs shape: torch.Size([1, 3])\n",
      "MNIST\n",
      "Single sample - Inputs shape: torch.Size([1, 784])\n",
      "Single sample - Activations shape: torch.Size([1, 384])\n",
      "Single sample - Outputs shape: torch.Size([1, 10])\n"
     ]
    }
   ],
   "source": [
    "# Get activations for single sample\n",
    "single_rgb_inputs, single_rgb_activations, single_rgb_outputs = get_activations(trained_rgb, rgb_test_loader, dataset_type='rgb_hsv', indices=42)\n",
    "print(\"RGB-HSV\")\n",
    "print(f\"Single sample - Inputs shape: {single_rgb_inputs.shape}\")\n",
    "print(f\"Single sample - Activations shape: {single_rgb_activations.shape}\")\n",
    "print(f\"Single sample - Outputs shape: {single_rgb_outputs.shape}\")\n",
    "\n",
    "# Get activations for single sample\n",
    "single_iris_inputs, single_iris_activations, single_iris_outputs = get_activations(trained_iris, iris_test_loader, dataset_type='iris', indices=15)\n",
    "print(\"Iris\")\n",
    "print(f\"Single sample - Inputs shape: {single_iris_inputs.shape}\")\n",
    "print(f\"Single sample - Activations shape: {single_iris_activations.shape}\")\n",
    "print(f\"Single sample - Outputs shape: {single_iris_outputs.shape}\")\n",
    "\n",
    "# Get activations for single sample\n",
    "single_mnist_inputs, single_mnist_activations, single_mnist_outputs = get_activations(trained_mnist, mnist_test_loader, dataset_type='mnist', indices=8)\n",
    "print(\"MNIST\")\n",
    "print(f\"Single sample - Inputs shape: {single_mnist_inputs.shape}\")\n",
    "print(f\"Single sample - Activations shape: {single_mnist_activations.shape}\")\n",
    "print(f\"Single sample - Outputs shape: {single_mnist_outputs.shape}\")"
   ]
  },
  {
   "cell_type": "code",
   "execution_count": 11,
   "id": "3ed432ae",
   "metadata": {},
   "outputs": [],
   "source": [
    "# 1. Using RGB activations with L1 distance\n",
    "indices_rgb, distances_rgb = find_knn(rgb_activations, single_rgb_activations, k=5, metric='l1')\n",
    "\n",
    "# 2. Using Iris inputs with Cosine distance\n",
    "indices_iris, distances_iris = find_knn(iris_activations, single_iris_activations, k=3, metric='cosine')\n",
    "\n",
    "# 3. Using MNIST outputs with L2 distance\n",
    "indices_mnist, distances_mnist = find_knn(mnist_activations, single_mnist_activations, k=5, metric='l2')"
   ]
  },
  {
   "cell_type": "code",
   "execution_count": 12,
   "id": "6699a0d9",
   "metadata": {},
   "outputs": [],
   "source": [
    "filtered_rgb_loader, filtered_size = create_filtered_dataloader(rgb_train_loader, exclude_indices=indices_rgb, batch_size=64, shuffle=False)"
   ]
  },
  {
   "cell_type": "code",
   "execution_count": 15,
   "id": "0f0b4c37",
   "metadata": {},
   "outputs": [
    {
     "name": "stdout",
     "output_type": "stream",
     "text": [
      "All seeds set to: 42\n",
      "Model weights initialized with seed: 42\n",
      "Training on device: cuda\n",
      "Epoch [20/100], Loss: 0.008877\n",
      "Epoch [40/100], Loss: 0.005048\n",
      "Epoch [60/100], Loss: 0.003294\n",
      "Epoch [80/100], Loss: 0.002406\n",
      "Epoch [100/100], Loss: 0.001912\n"
     ]
    }
   ],
   "source": [
    "filter_rgb_model = RGBtoHSVNet()\n",
    "rgb_criterion = nn.MSELoss()\n",
    "rgb_optimizer = optim.Adam(filter_rgb_model.parameters(), lr=0.001)\n",
    "rgb_losses, trained_rgb = train_model(filter_rgb_model, filtered_rgb_loader, rgb_criterion, rgb_optimizer, num_epochs=100, seed=42, verbose=True)"
   ]
  }
 ],
 "metadata": {
  "kernelspec": {
   "display_name": "ml_train",
   "language": "python",
   "name": "python3"
  },
  "language_info": {
   "codemirror_mode": {
    "name": "ipython",
    "version": 3
   },
   "file_extension": ".py",
   "mimetype": "text/x-python",
   "name": "python",
   "nbconvert_exporter": "python",
   "pygments_lexer": "ipython3",
   "version": "3.11.11"
  }
 },
 "nbformat": 4,
 "nbformat_minor": 5
}
